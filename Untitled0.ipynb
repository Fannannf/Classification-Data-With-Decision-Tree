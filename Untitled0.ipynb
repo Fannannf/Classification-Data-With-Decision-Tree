{
  "nbformat": 4,
  "nbformat_minor": 0,
  "metadata": {
    "colab": {
      "provenance": []
    },
    "kernelspec": {
      "name": "python3",
      "display_name": "Python 3"
    },
    "language_info": {
      "name": "python"
    }
  },
  "cells": [
    {
      "cell_type": "code",
      "execution_count": 1,
      "metadata": {
        "id": "Z-e1WlkQen28"
      },
      "outputs": [],
      "source": [
        "import pandas as pd\n",
        "import numpy as np\n",
        "import matplotlib.pyplot as plt\n"
      ]
    },
    {
      "cell_type": "code",
      "source": [
        "from sklearn.tree import DecisionTreeClassifier\n",
        "from sklearn import datasets"
      ],
      "metadata": {
        "id": "RZTFewFIfGvM"
      },
      "execution_count": 2,
      "outputs": []
    },
    {
      "cell_type": "code",
      "source": [
        "iris = datasets.load_iris()\n",
        "fitur = iris['data']\n",
        "target = iris['target']\n"
      ],
      "metadata": {
        "id": "AkrT9xb9fbZZ"
      },
      "execution_count": 3,
      "outputs": []
    },
    {
      "cell_type": "code",
      "source": [
        "decision = DecisionTreeClassifier(random_state=0,max_depth=None,min_samples_split=2,min_samples_leaf=1,min_weight_fraction_leaf=0,max_leaf_nodes=None,min_impurity_decrease=0)"
      ],
      "metadata": {
        "id": "CURGpc4nfqua"
      },
      "execution_count": 4,
      "outputs": []
    },
    {
      "cell_type": "code",
      "source": [
        "model = decision.fit(fitur,target)"
      ],
      "metadata": {
        "id": "Rf67Fex2gQc-"
      },
      "execution_count": 5,
      "outputs": []
    },
    {
      "cell_type": "code",
      "source": [
        "observasi = [[5,4,3,2]]\n",
        "model.predict(observasi)\n",
        "model.predict_proba(observasi)"
      ],
      "metadata": {
        "colab": {
          "base_uri": "https://localhost:8080/"
        },
        "id": "iuJ3Y_e7gW8C",
        "outputId": "8ffd9102-f9f8-4955-b945-085bec1b24ac"
      },
      "execution_count": 7,
      "outputs": [
        {
          "output_type": "execute_result",
          "data": {
            "text/plain": [
              "array([[0., 1., 0.]])"
            ]
          },
          "metadata": {},
          "execution_count": 7
        }
      ]
    },
    {
      "cell_type": "code",
      "source": [
        "import pydotplus\n",
        "from sklearn import tree\n",
        "dot_data = tree.export_graphviz(decision,out_file=None,feature_names=iris['feature_names'],class_names=iris['target_names'])"
      ],
      "metadata": {
        "id": "Qbs54fluguGH"
      },
      "execution_count": 8,
      "outputs": []
    },
    {
      "cell_type": "code",
      "source": [
        "from IPython.display import Image\n",
        "graph = pydotplus.graph_from_dot_data(dot_data)\n",
        "Image(graph.create_png())\n",
        "graph.write_png('iris.png')"
      ],
      "metadata": {
        "colab": {
          "base_uri": "https://localhost:8080/"
        },
        "id": "m5wZUrWkhRUk",
        "outputId": "b3afb992-f76f-474c-87a6-83500b0e8e62"
      },
      "execution_count": 10,
      "outputs": [
        {
          "output_type": "execute_result",
          "data": {
            "text/plain": [
              "True"
            ]
          },
          "metadata": {},
          "execution_count": 10
        }
      ]
    },
    {
      "cell_type": "code",
      "source": [
        "iris_data = pd.read_csv('Dataset_Iris2.csv')"
      ],
      "metadata": {
        "id": "xIR4feVZiBhE"
      },
      "execution_count": 18,
      "outputs": []
    },
    {
      "cell_type": "code",
      "source": [
        "iris_data.head"
      ],
      "metadata": {
        "colab": {
          "base_uri": "https://localhost:8080/"
        },
        "id": "ypm09dzyi1UV",
        "outputId": "b726e6c4-9d75-4038-d334-8e8928303947"
      },
      "execution_count": 19,
      "outputs": [
        {
          "output_type": "execute_result",
          "data": {
            "text/plain": [
              "<bound method NDFrame.head of      Id  SepalLengthCm  SepalWidthCm  PetalLengthCm  PetalWidthCm  \\\n",
              "0     1           7.02          3.02           4.07          1.04   \n",
              "1     2           6.04          2.01           4.05          1.05   \n",
              "2     3           3.02          3.01           3.02          1.03   \n",
              "3     4           5.05          2.03           4.06          1.03   \n",
              "4     5           6.05          2.04           4.07          1.05   \n",
              "..  ...            ...           ...            ...           ...   \n",
              "95   96           6.07          3.01           5.02          2.03   \n",
              "96   97           6.03          2.05           5.03          1.09   \n",
              "97   98           6.05          3.01           5.02          1.03   \n",
              "98   99           6.02          3.04           5.04          2.03   \n",
              "99  100           5.09          3.01           5.01          1.08   \n",
              "\n",
              "            Species  \n",
              "0   Iris-versicolor  \n",
              "1   Iris-versicolor  \n",
              "2   Iris-versicolor  \n",
              "3   Iris-versicolor  \n",
              "4   Iris-versicolor  \n",
              "..              ...  \n",
              "95   Iris-virginica  \n",
              "96   Iris-virginica  \n",
              "97   Iris-virginica  \n",
              "98   Iris-virginica  \n",
              "99   Iris-virginica  \n",
              "\n",
              "[100 rows x 6 columns]>"
            ]
          },
          "metadata": {},
          "execution_count": 19
        }
      ]
    },
    {
      "cell_type": "code",
      "source": [
        "iris_data.columns"
      ],
      "metadata": {
        "colab": {
          "base_uri": "https://localhost:8080/"
        },
        "id": "L56Wx_nKiVly",
        "outputId": "b3faa33b-0a97-4cb5-adbd-4e5f78ee7044"
      },
      "execution_count": 13,
      "outputs": [
        {
          "output_type": "execute_result",
          "data": {
            "text/plain": [
              "Index(['Id', 'SepalLengthCm', 'SepalWidthCm', 'PetalLengthCm', 'PetalWidthCm',\n",
              "       'Species'],\n",
              "      dtype='object')"
            ]
          },
          "metadata": {},
          "execution_count": 13
        }
      ]
    },
    {
      "cell_type": "code",
      "source": [
        "iris_data['Species'] = pd.factorize(iris_data.Species)[0]"
      ],
      "metadata": {
        "id": "XfBiZdtRibet"
      },
      "execution_count": 21,
      "outputs": []
    },
    {
      "cell_type": "code",
      "source": [
        "iris_data.head"
      ],
      "metadata": {
        "colab": {
          "base_uri": "https://localhost:8080/"
        },
        "id": "J2LcZr0Bi4-U",
        "outputId": "3d4afdcb-2628-49ef-9983-00ef91039ac6"
      },
      "execution_count": 22,
      "outputs": [
        {
          "output_type": "execute_result",
          "data": {
            "text/plain": [
              "<bound method NDFrame.head of      Id  SepalLengthCm  SepalWidthCm  PetalLengthCm  PetalWidthCm  Species\n",
              "0     1           7.02          3.02           4.07          1.04        0\n",
              "1     2           6.04          2.01           4.05          1.05        0\n",
              "2     3           3.02          3.01           3.02          1.03        0\n",
              "3     4           5.05          2.03           4.06          1.03        0\n",
              "4     5           6.05          2.04           4.07          1.05        0\n",
              "..  ...            ...           ...            ...           ...      ...\n",
              "95   96           6.07          3.01           5.02          2.03        1\n",
              "96   97           6.03          2.05           5.03          1.09        1\n",
              "97   98           6.05          3.01           5.02          1.03        1\n",
              "98   99           6.02          3.04           5.04          2.03        1\n",
              "99  100           5.09          3.01           5.01          1.08        1\n",
              "\n",
              "[100 rows x 6 columns]>"
            ]
          },
          "metadata": {},
          "execution_count": 22
        }
      ]
    },
    {
      "cell_type": "code",
      "source": [
        "iris_data = iris_data.drop(labels=\"Id\", axis=1)"
      ],
      "metadata": {
        "id": "BZdUSqRpil9l"
      },
      "execution_count": 23,
      "outputs": []
    },
    {
      "cell_type": "code",
      "source": [
        "iris_data.head"
      ],
      "metadata": {
        "colab": {
          "base_uri": "https://localhost:8080/"
        },
        "id": "inkilcdrivLo",
        "outputId": "858fc278-5de3-4d48-a45a-c1193b675a5d"
      },
      "execution_count": 24,
      "outputs": [
        {
          "output_type": "execute_result",
          "data": {
            "text/plain": [
              "<bound method NDFrame.head of     SepalLengthCm  SepalWidthCm  PetalLengthCm  PetalWidthCm  Species\n",
              "0            7.02          3.02           4.07          1.04        0\n",
              "1            6.04          2.01           4.05          1.05        0\n",
              "2            3.02          3.01           3.02          1.03        0\n",
              "3            5.05          2.03           4.06          1.03        0\n",
              "4            6.05          2.04           4.07          1.05        0\n",
              "..            ...           ...            ...           ...      ...\n",
              "95           6.07          3.01           5.02          2.03        1\n",
              "96           6.03          2.05           5.03          1.09        1\n",
              "97           6.05          3.01           5.02          1.03        1\n",
              "98           6.02          3.04           5.04          2.03        1\n",
              "99           5.09          3.01           5.01          1.08        1\n",
              "\n",
              "[100 rows x 5 columns]>"
            ]
          },
          "metadata": {},
          "execution_count": 24
        }
      ]
    },
    {
      "cell_type": "code",
      "source": [
        "iris_data = iris_data.to_numpy()"
      ],
      "metadata": {
        "id": "cQeXgVmHjO4C"
      },
      "execution_count": 25,
      "outputs": []
    },
    {
      "cell_type": "code",
      "source": [
        "print(iris_data)"
      ],
      "metadata": {
        "colab": {
          "base_uri": "https://localhost:8080/"
        },
        "id": "BeX-be2_jYyB",
        "outputId": "9bffaead-cf0e-48e7-a69a-84fab585c107"
      },
      "execution_count": 26,
      "outputs": [
        {
          "output_type": "stream",
          "name": "stdout",
          "text": [
            "[[7.02 3.02 4.07 1.04 0.  ]\n",
            " [6.04 2.01 4.05 1.05 0.  ]\n",
            " [3.02 3.01 3.02 1.03 0.  ]\n",
            " [5.05 2.03 4.06 1.03 0.  ]\n",
            " [6.05 2.04 4.07 1.05 0.  ]\n",
            " [5.07 2.08 4.05 1.03 0.  ]\n",
            " [6.03 3.01 4.07 1.05 0.  ]\n",
            " [4.09 2.04 3.03 1.03 0.  ]\n",
            " [6.06 2.09 4.06 1.03 0.  ]\n",
            " [5.02 2.07 3.09 1.04 0.  ]\n",
            " [5.05 2.08 3.05 1.03 0.  ]\n",
            " [5.09 3.04 4.02 1.05 0.  ]\n",
            " [6.02 2.02 4.06 1.01 0.  ]\n",
            " [6.01 2.09 4.07 1.04 0.  ]\n",
            " [6.02 2.09 3.06 1.03 0.  ]\n",
            " [6.07 3.01 4.04 1.04 0.  ]\n",
            " [5.06 3.03 4.05 1.05 0.  ]\n",
            " [5.08 2.07 4.01 1.03 0.  ]\n",
            " [6.02 2.02 4.05 1.05 0.  ]\n",
            " [4.06 2.05 3.09 1.01 0.  ]\n",
            " [5.09 3.02 4.08 1.08 0.  ]\n",
            " [6.01 2.08 4.02 1.03 0.  ]\n",
            " [6.03 2.05 4.09 1.05 0.  ]\n",
            " [6.01 2.08 4.07 1.02 0.  ]\n",
            " [5.04 2.09 4.03 1.03 0.  ]\n",
            " [6.06 3.04 4.04 1.04 0.  ]\n",
            " [6.08 2.08 4.08 1.04 0.  ]\n",
            " [6.07 3.02 5.01 1.07 0.  ]\n",
            " [6.02 2.09 4.05 1.05 0.  ]\n",
            " [5.07 2.06 3.05 1.03 0.  ]\n",
            " [5.05 2.04 3.08 1.01 0.  ]\n",
            " [5.05 2.04 3.07 1.02 0.  ]\n",
            " [5.08 2.07 3.09 1.02 0.  ]\n",
            " [5.03 2.07 5.01 1.06 0.  ]\n",
            " [5.04 3.04 4.05 1.05 0.  ]\n",
            " [6.02 3.04 4.05 1.06 0.  ]\n",
            " [6.07 3.01 4.07 1.05 0.  ]\n",
            " [6.03 2.03 4.04 1.03 0.  ]\n",
            " [5.06 3.07 4.01 1.03 0.  ]\n",
            " [5.05 2.05 4.02 1.03 0.  ]\n",
            " [5.05 2.06 4.04 1.02 0.  ]\n",
            " [6.01 3.01 4.06 1.04 0.  ]\n",
            " [5.08 2.06 4.01 1.02 0.  ]\n",
            " [5.06 2.03 3.03 1.03 0.  ]\n",
            " [5.06 2.07 4.02 1.03 0.  ]\n",
            " [5.07 3.02 4.02 1.02 0.  ]\n",
            " [5.07 2.09 4.02 1.03 0.  ]\n",
            " [6.02 2.09 4.03 1.03 0.  ]\n",
            " [5.01 2.05 3.02 1.01 0.  ]\n",
            " [5.07 2.08 4.01 1.03 0.  ]\n",
            " [6.03 3.03 6.07 2.05 1.  ]\n",
            " [5.08 2.07 5.01 1.09 1.  ]\n",
            " [7.01 3.02 5.09 2.01 1.  ]\n",
            " [6.03 2.09 5.06 1.08 1.  ]\n",
            " [6.05 3.02 5.08 2.02 1.  ]\n",
            " [7.06 3.03 6.06 2.01 1.  ]\n",
            " [4.09 2.05 4.05 1.07 1.  ]\n",
            " [7.03 2.09 6.03 1.08 1.  ]\n",
            " [6.07 2.05 5.08 1.08 1.  ]\n",
            " [7.02 3.06 6.01 2.05 1.  ]\n",
            " [6.05 3.02 5.01 1.03 1.  ]\n",
            " [6.04 2.07 5.03 1.09 1.  ]\n",
            " [6.08 3.03 5.05 2.01 1.  ]\n",
            " [5.07 2.05 5.03 1.03 1.  ]\n",
            " [5.08 2.08 5.01 2.04 1.  ]\n",
            " [6.04 3.02 5.03 2.03 1.  ]\n",
            " [6.05 3.03 5.05 1.08 1.  ]\n",
            " [7.07 3.08 6.07 2.02 1.  ]\n",
            " [7.07 2.06 6.09 2.03 1.  ]\n",
            " [6.01 2.02 5.02 1.05 1.  ]\n",
            " [6.09 3.02 5.07 2.03 1.  ]\n",
            " [5.06 2.08 4.09 2.07 1.  ]\n",
            " [7.07 2.08 6.07 2.02 1.  ]\n",
            " [6.03 2.07 4.09 1.08 1.  ]\n",
            " [6.07 3.03 5.07 2.01 1.  ]\n",
            " [7.02 3.02 6.07 1.08 1.  ]\n",
            " [6.02 2.08 4.08 1.08 1.  ]\n",
            " [6.01 3.03 4.09 1.08 1.  ]\n",
            " [6.04 2.08 5.06 2.01 1.  ]\n",
            " [7.02 3.03 5.08 1.06 1.  ]\n",
            " [7.04 2.08 6.01 1.09 1.  ]\n",
            " [7.09 3.08 6.04 1.03 1.  ]\n",
            " [6.04 2.08 5.06 2.02 1.  ]\n",
            " [6.03 3.01 5.01 1.05 1.  ]\n",
            " [6.01 2.06 5.06 1.04 1.  ]\n",
            " [7.07 3.01 6.01 2.03 1.  ]\n",
            " [6.03 3.04 5.06 2.04 1.  ]\n",
            " [6.04 3.01 5.05 1.08 1.  ]\n",
            " [6.01 3.01 4.08 1.08 1.  ]\n",
            " [6.09 3.01 5.04 2.01 1.  ]\n",
            " [6.07 3.01 5.06 2.04 1.  ]\n",
            " [6.09 3.01 5.01 2.03 1.  ]\n",
            " [5.08 2.07 5.01 1.09 1.  ]\n",
            " [6.08 3.02 5.09 2.03 1.  ]\n",
            " [6.07 3.03 5.07 2.05 1.  ]\n",
            " [6.07 3.01 5.02 2.03 1.  ]\n",
            " [6.03 2.05 5.03 1.09 1.  ]\n",
            " [6.05 3.01 5.02 1.03 1.  ]\n",
            " [6.02 3.04 5.04 2.03 1.  ]\n",
            " [5.09 3.01 5.01 1.08 1.  ]]\n"
          ]
        }
      ]
    },
    {
      "cell_type": "code",
      "source": [
        "dataTraining = np.concatenate((iris_data[0:40,:],iris_data[50:90,:]),axis=0)\n",
        "dataTesting = np.concatenate((iris_data[40:50,:],iris_data[90:100,:]),axis=0)"
      ],
      "metadata": {
        "id": "740uJ5wfjd3f"
      },
      "execution_count": 27,
      "outputs": []
    },
    {
      "cell_type": "code",
      "source": [
        "print(dataTesting)"
      ],
      "metadata": {
        "id": "FjYKooBgj9wV"
      },
      "execution_count": null,
      "outputs": []
    },
    {
      "cell_type": "code",
      "source": [
        "inputTraining = dataTraining[:,0:4]\n",
        "inputTesting = dataTesting[:,0:4]\n",
        "labelTraining = dataTraining[:,4]\n",
        "labelTesting = dataTesting[:,4]"
      ],
      "metadata": {
        "id": "BRUn9OvhkMZn"
      },
      "execution_count": 32,
      "outputs": []
    },
    {
      "cell_type": "code",
      "source": [
        "len(labelTraining)"
      ],
      "metadata": {
        "id": "ITGsIoakkVdt"
      },
      "execution_count": null,
      "outputs": []
    },
    {
      "cell_type": "code",
      "source": [
        "model = tree.DecisionTreeClassifier()"
      ],
      "metadata": {
        "id": "3MVziLj0klUD"
      },
      "execution_count": 35,
      "outputs": []
    },
    {
      "cell_type": "code",
      "source": [
        "model = model.fit(inputTraining,labelTraining)"
      ],
      "metadata": {
        "id": "-QFbqE2hk0mg"
      },
      "execution_count": 36,
      "outputs": []
    },
    {
      "cell_type": "code",
      "source": [
        "hasilPredik = model.predict(inputTesting)\n",
        "print(\"Label Sebelumnya : \",labelTesting)\n",
        "print(\"Hasil Prediksi   : \",hasilPredik)\n"
      ],
      "metadata": {
        "colab": {
          "base_uri": "https://localhost:8080/"
        },
        "id": "EQHhB6ISk-Sy",
        "outputId": "2f501a28-f134-46ed-d561-f0a25d7af1d8"
      },
      "execution_count": 37,
      "outputs": [
        {
          "output_type": "stream",
          "name": "stdout",
          "text": [
            "Label Sebelumnya :  [0. 0. 0. 0. 0. 0. 0. 0. 0. 0. 1. 1. 1. 1. 1. 1. 1. 1. 1. 1.]\n",
            "Hasil Prediksi   :  [0. 0. 0. 0. 0. 0. 0. 0. 0. 0. 1. 1. 1. 1. 1. 1. 1. 1. 1. 1.]\n"
          ]
        }
      ]
    }
  ]
}